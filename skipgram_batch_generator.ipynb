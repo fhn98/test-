{
 "cells": [
  {
   "cell_type": "code",
   "execution_count": 1,
   "metadata": {},
   "outputs": [],
   "source": [
    "import numpy as np"
   ]
  },
  {
   "cell_type": "code",
   "execution_count": null,
   "metadata": {},
   "outputs": [],
   "source": []
  },
  {
   "cell_type": "code",
   "execution_count": 2,
   "metadata": {},
   "outputs": [],
   "source": [
    "def gen_example(words , window_size):\n",
    "    for i in range (len(words)):\n",
    "        for j in range (max(0 , i-window_size) , i):\n",
    "            yield words[i],words[j]\n",
    "        for j in range (i+1 , min(len(words) , i+window_size+1)):\n",
    "            yield words[i] , words[j]"
   ]
  },
  {
   "cell_type": "code",
   "execution_count": 3,
   "metadata": {},
   "outputs": [],
   "source": [
    "def gen_batch(window_size , batch_size):\n",
    "    with open ('wordsByIndex.txt' , 'rt') as infile:\n",
    "        words_by_index = eval(infile.read())\n",
    "\n",
    "\n",
    "    single_example = gen_example(words_by_index , window_size)\n",
    "\n",
    "    while True:\n",
    "        centers=np.zeros([batch_size,] , dtype=np.int32)\n",
    "        targets=np.zeros([batch_size,1] , dtype=np.int32)\n",
    "\n",
    "        for i in range (batch_size):\n",
    "            centers[i],targets[i]=next(single_example)\n",
    "\n",
    "        yield centers , targets"
   ]
  },
  {
   "cell_type": "code",
   "execution_count": null,
   "metadata": {},
   "outputs": [],
   "source": []
  }
 ],
 "metadata": {
  "kernelspec": {
   "display_name": "Python 3",
   "language": "python",
   "name": "python3"
  },
  "language_info": {
   "codemirror_mode": {
    "name": "ipython",
    "version": 3
   },
   "file_extension": ".py",
   "mimetype": "text/x-python",
   "name": "python",
   "nbconvert_exporter": "python",
   "pygments_lexer": "ipython3",
   "version": "3.6.5"
  }
 },
 "nbformat": 4,
 "nbformat_minor": 2
}
