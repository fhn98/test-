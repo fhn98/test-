{
 "cells": [
  {
   "cell_type": "code",
   "execution_count": 2,
   "metadata": {},
   "outputs": [],
   "source": [
    "import tensorflow as tf\n",
    "import numpy as np\n",
    "import re\n",
    "import pickle"
   ]
  },
  {
   "cell_type": "code",
   "execution_count": 3,
   "metadata": {},
   "outputs": [],
   "source": [
    "file = \"testembd.txt\""
   ]
  },
  {
   "cell_type": "code",
   "execution_count": 4,
   "metadata": {},
   "outputs": [
    {
     "name": "stdout",
     "output_type": "stream",
     "text": [
      "507079\n",
      "445\n",
      "633\n",
      "4904\n",
      "16842\n",
      "1478\n"
     ]
    }
   ],
   "source": [
    "word_indexes = dict()\n",
    "index_words = []\n",
    "index = 0\n",
    "\n",
    "with open (file , 'rt') as infile:\n",
    "    content = infile.read()\n",
    "    \n",
    "words = content.split()\n",
    "\n",
    "for word in words:\n",
    "    if word not in word_indexes:\n",
    "        word_indexes[word]=index\n",
    "        index_words.append(word)\n",
    "        index+=1\n",
    "\n",
    "print (len(words))\n",
    "\n",
    "words_by_index = [word_indexes[word] for word in words]\n",
    "\n",
    "\n",
    "print (word_indexes['two'])\n",
    "print (word_indexes['person'])\n",
    "print (word_indexes['england'])\n",
    "print (word_indexes['week'])\n",
    "print (word_indexes['big'])\n",
    "        \n",
    "with open ('indexWords.txt','w') as dest:\n",
    "    dest.write(str(index_words))      \n",
    "\n",
    "with open ('wordIndexes.txt','w') as dest:\n",
    "    dest.write(str(word_indexes))    \n",
    "    \n",
    "with open ('words.txt','w') as dest:\n",
    "    dest.write(str(words)) \n",
    "    \n",
    "with open ('wordsByIndex.txt','w') as dest:\n",
    "    dest.write(str(words_by_index)) "
   ]
  },
  {
   "cell_type": "code",
   "execution_count": null,
   "metadata": {},
   "outputs": [],
   "source": []
  }
 ],
 "metadata": {
  "kernelspec": {
   "display_name": "Python [default]",
   "language": "python",
   "name": "python3"
  },
  "language_info": {
   "codemirror_mode": {
    "name": "ipython",
    "version": 3
   },
   "file_extension": ".py",
   "mimetype": "text/x-python",
   "name": "python",
   "nbconvert_exporter": "python",
   "pygments_lexer": "ipython3",
   "version": "3.5.6"
  }
 },
 "nbformat": 4,
 "nbformat_minor": 2
}
