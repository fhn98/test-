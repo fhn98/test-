{
 "cells": [
  {
   "cell_type": "code",
   "execution_count": 1,
   "metadata": {},
   "outputs": [],
   "source": [
    "import numpy as np"
   ]
  },
  {
   "cell_type": "code",
   "execution_count": 12,
   "metadata": {},
   "outputs": [],
   "source": [
    "def compute_cooccurence(words , window_size , cooccurrence):\n",
    "    for i in range (len(words)):\n",
    "        for j in range (max(0 , i-window_size) , i):\n",
    "            cooccurrence[words[i]][words[j]]+=(1.0/(i-j))\n",
    "        for j in range (i+1 , min(len(words) , i+window_size+1)):\n",
    "            cooccurrence[words[i]][words[j]]+=(1.0/(j-i))"
   ]
  },
  {
   "cell_type": "code",
   "execution_count": 13,
   "metadata": {},
   "outputs": [],
   "source": [
    "def gen_example(vocab_size , cooccurrence):\n",
    "    for i in range (vocab_size):\n",
    "        for j in range (vocab_size):\n",
    "            if (i!=j and cooccurrence[i][j]!=0):\n",
    "                yield i , j , cooccurrence[i][j]"
   ]
  },
  {
   "cell_type": "code",
   "execution_count": 14,
   "metadata": {},
   "outputs": [],
   "source": [
    "def gen_batch(window_size , batch_size , vocab_size):\n",
    "    with open ('wordsByIndex.txt' , 'rt') as infile:\n",
    "        words = eval(infile.read())\n",
    "        \n",
    "    cooccurrence = np.zeros([vocab_size , vocab_size] , dtype=np.int32)\n",
    "    \n",
    "    compute_cooccurence(words , window_size , cooccurrence)\n",
    "\n",
    "\n",
    "    single_example = gen_example(vocab_size , cooccurrence)\n",
    "\n",
    "    while True:\n",
    "        first=np.zeros([batch_size,] , dtype=np.int32)\n",
    "        second=np.zeros([batch_size,] , dtype=np.int32)\n",
    "        cooc=np.zeros([batch_size,] , dtype=np.float32)\n",
    "\n",
    "        for i in range (batch_size):\n",
    "            first[i],second[i],cooc[i]=next(single_example)\n",
    "\n",
    "        yield first , second , cooc"
   ]
  },
  {
   "cell_type": "code",
   "execution_count": null,
   "metadata": {},
   "outputs": [],
   "source": []
  },
  {
   "cell_type": "code",
   "execution_count": null,
   "metadata": {},
   "outputs": [],
   "source": []
  }
 ],
 "metadata": {
  "kernelspec": {
   "display_name": "Python [default]",
   "language": "python",
   "name": "python3"
  },
  "language_info": {
   "codemirror_mode": {
    "name": "ipython",
    "version": 3
   },
   "file_extension": ".py",
   "mimetype": "text/x-python",
   "name": "python",
   "nbconvert_exporter": "python",
   "pygments_lexer": "ipython3",
   "version": "3.5.6"
  }
 },
 "nbformat": 4,
 "nbformat_minor": 2
}
